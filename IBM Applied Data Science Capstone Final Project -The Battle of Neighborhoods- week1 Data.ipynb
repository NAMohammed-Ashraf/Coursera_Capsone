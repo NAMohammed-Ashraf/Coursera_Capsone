{
 "cells": [
  {
   "cell_type": "markdown",
   "metadata": {},
   "source": [
    "Introduction"
   ]
  },
  {
   "cell_type": "markdown",
   "metadata": {},
   "source": [
    "Study and analysis of data by various methods is critical for any activity in today’s world. This project is to help a friend to identify a neighborhood location in Toronto city like his current location in New York city with shopping malls, parks and food courts. My friend can decide his location to relocate based on the outcome of my analysis. This is achieved with the help of Machine Language Algorithms."
   ]
  },
  {
   "cell_type": "markdown",
   "metadata": {},
   "source": [
    "Business Problem"
   ]
  },
  {
   "cell_type": "markdown",
   "metadata": {},
   "source": [
    "In this project, I want to help my friend to find the best neighborhood in Toronto which is like his current place of residence with amenities like shopping malls, parks and food courts. The challenge is to find a suitable neighborhood which is close enough meeting his specific requirements."
   ]
  },
  {
   "cell_type": "markdown",
   "metadata": {},
   "source": [
    "Data"
   ]
  },
  {
   "cell_type": "markdown",
   "metadata": {},
   "source": [
    "A list of neighborhoods in New York and Toronto is downloaded and their respective location. The data is extracted from the below sources\n",
    "\n",
    "New York neighborhoods: https://ibm.box.com/shared/static/fbpwbovar7lf8p5sgddm06cgipa2rxpe.json\n",
    "Toronto neighborhoods: https://en.wikipedia.org/wiki/List_of_postal_codes_of_Canada:_M\n",
    "\n",
    "Transform the data into Pandas dataframe, use Geopy Python package to get the latitude and the longitude of all the neighborhoods of Toronto, use Folium Python library to map the neighborhoods, use Foursquare API to get information about venues around the neighborhoods. Look for a group of venues in walking distance of each neighborhood like shopping malls, parks and food courts.\n"
   ]
  },
  {
   "cell_type": "code",
   "execution_count": null,
   "metadata": {},
   "outputs": [],
   "source": []
  }
 ],
 "metadata": {
  "kernelspec": {
   "display_name": "Python 3",
   "language": "python",
   "name": "python3"
  },
  "language_info": {
   "codemirror_mode": {
    "name": "ipython",
    "version": 3
   },
   "file_extension": ".py",
   "mimetype": "text/x-python",
   "name": "python",
   "nbconvert_exporter": "python",
   "pygments_lexer": "ipython3",
   "version": "3.7.4"
  }
 },
 "nbformat": 4,
 "nbformat_minor": 2
}
